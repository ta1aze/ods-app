{
 "cells": [
  {
   "cell_type": "code",
   "id": "initial_id",
   "metadata": {
    "collapsed": true,
    "jupyter": {
     "is_executing": true
    }
   },
   "source": [
    "import openpyxl\n",
    "\n",
    "pip install streamlit pandas openpyxl\n",
    "\n"
   ],
   "outputs": [],
   "execution_count": null
  },
  {
   "metadata": {
    "jupyter": {
     "is_executing": true
    }
   },
   "cell_type": "code",
   "source": [
    "import streamlit as st\n",
    "import pandas as pd\n",
    "\n",
    "st.set_page_config(page_title=\"ODS Algoritma Karşılaştırma\", layout=\"wide\")\n",
    "\n",
    "@st.cache_data\n",
    "def load_data():\n",
    "    return pd.read_excel(\"ods_comparison.xlsx\")\n",
    "\n",
    "df = load_data()\n",
    "\n",
    "st.title(\"ODS Algoritma Karşılaştırma Aracı\")\n",
    "st.write(\"ODS algoritmasının kararlarını kullanıcı onaylarıyla karşılaştırmak için hazırlanan arayüz.\")\n",
    "\n",
    "for i, row in df.iterrows():\n",
    "    st.subheader(f\"Numune ID: {row['id']}\")\n",
    "    st.write(f\"İstemi Yapan Birim: {row['unit']}\")\n",
    "    st.write(f\"Tanı: {row['dx']}\")\n",
    "    st.write(f\"ODS Algoritma Kararı: **{row['ods_decision']}**\")\n",
    "    st.write(f\"PT: {row['pt']}, aPTT: {row['aptt']}, Fibrinojen: {row['fib']}\")\n",
    "\n",
    "    user_choice = st.radio(\n",
    "        \"Sizin Kararınız:\",\n",
    "        [\"Onayla\", \"Reddet\", \"Düzelt\"],\n",
    "        key=f\"user_choice_{i}\"\n",
    "    )\n",
    "    user_reason = st.text_input(\"Sebep (opsiyonel):\", key=f\"user_reason_{i}\")\n",
    "\n",
    "st.success(\"Girdileriniz kaydedildi (örnek). Gerçek sistemde veritabanı veya dosya kaydı eklenebilir.\")\n",
    "import streamlit as st\n",
    "import pandas as pd\n",
    "\n",
    "st.set_page_config(page_title=\"ODS Algoritma Karşılaştırma\", layout=\"wide\")\n",
    "\n",
    "# Excel yükleme\n",
    "@st.cache_data\n",
    "def load_data():\n",
    "    return pd.read_excel(\"ods_comparison.xlsx\")\n",
    "\n",
    "df = load_data()\n",
    "\n",
    "st.title(\"ODS Algoritma Karşılaştırma Aracı\")\n",
    "st.write(\"ODS algoritmasının kararlarını kullanıcı onaylarıyla karşılaştırmak için hazırlanan arayüz.\")\n",
    "\n",
    "for i, row in df.iterrows():\n",
    "    st.subheader(f\"Numune ID: {row['id']}\")\n",
    "    st.write(f\"İstemi Yapan Birim: {row['unit']}\")\n",
    "    st.write(f\"Tanı: {row['dx']}\")\n",
    "    st.write(f\"ODS Algoritma Kararı: **{row['ods_decision']}**\")\n",
    "    st.write(f\"PT: {row['pt']} | aPTT: {row['aptt']} | Fibrinojen: {row['fib']}\")\n",
    "\n",
    "    user_choice = st.radio(\n",
    "        \"Sizin Kararınız:\",\n",
    "        [\"Onayla\", \"Reddet\", \"Düzelt\"],\n",
    "        key=f\"user_choice_{i}\"\n",
    "    )\n",
    "    user_reason = st.text_input(\"Sebep (opsiyonel):\", key=f\"user_reason_{i}\")\n",
    "\n",
    "st.success(\"Girdileriniz kaydedildi (örnek). Gerçek sistemde veritabanı veya dosya kaydı eklenebilir.\")\n"
   ],
   "id": "fd5d7b4616a565b7",
   "outputs": [],
   "execution_count": null
  }
 ],
 "metadata": {
  "kernelspec": {
   "display_name": "Python 3",
   "language": "python",
   "name": "python3"
  },
  "language_info": {
   "codemirror_mode": {
    "name": "ipython",
    "version": 2
   },
   "file_extension": ".py",
   "mimetype": "text/x-python",
   "name": "python",
   "nbconvert_exporter": "python",
   "pygments_lexer": "ipython2",
   "version": "2.7.6"
  }
 },
 "nbformat": 4,
 "nbformat_minor": 5
}
